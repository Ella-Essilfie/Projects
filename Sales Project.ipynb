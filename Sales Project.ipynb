{
 "cells": [
  {
   "cell_type": "markdown",
   "metadata": {},
   "source": [
    "#  Project\n",
    "### Problem Statement\n",
    "\n",
    "In the year 2013, a supermarket decided to draw insight from their data in order to make data driven decisions.\n",
    "As a Data Analyst,you are presented with their 2013 daily sales records (sales_data.csv) and tasked to help them find answers to the questions below by analysing the data.\n",
    "\n",
    "1. i. What is the average sales and profit per market? \n",
    "\n",
    "   ii.Plot a stacked bar chart showing the sales and profit per market.\n",
    "   \n",
    "   iii.Which market brings more sales on the average?\n",
    "\n",
    "2. i. What are the best 10 performing products with regards to sales in 2013?\n",
    "\n",
    "   ii.What are the least 10 performing products with regards to sales 2013?\n",
    "\n",
    "\n",
    "3. i. Extract the days and months from the Order Date and add them to the data frame with the name \"Days\" and \"Months\" respectively?\n",
    "\n",
    "   ii.Show the trend of profit from January to December with a line plot.\n",
    "\n",
    "   iii. Which month does the company make more profit and what 5 products are sold most in that month?\n",
    "   iv.  which day does the company make high sales on the average?\n",
    "\n",
    "4. i. By analyzing the data, what is the correlation between sales and discount?\n",
    "\n",
    "   ii. Use a scatter plot to show the relationship between sales and profit.\n",
    "\n",
    "5. i. Plot a grouped bar chart showing the total profit for the different product category for each market.\n",
    "   ii. From your graph, which product category performs well in each market?\n",
    "   \n",
    "6. i. Which customer spent the most in the whole year?\n",
    "   ii. What product does the customer in (i) buy the most?\n",
    "   iii. Which month did the customer spent the most?\n",
    "   iv. How much did this customer spend in the whole year?\n",
    "   \n",
    "7. Can you do any other analysis to draw more insight? Feel free to do it.\n",
    "\n",
    "\n",
    "**Thank you**\n",
    "\n",
    "**GOOD LUCK!**\n",
    "\n",
    "\n",
    "\n"
   ]
  },
  {
   "cell_type": "code",
   "execution_count": 139,
   "metadata": {},
   "outputs": [],
   "source": [
    "# Use markdowns to write your answers or findings where necessary.\n",
    "# Use comments to exlain you codes where necessary \n",
    "# Remember to import the necessary packages"
   ]
  },
  {
   "cell_type": "markdown",
   "metadata": {},
   "source": [
    "# NB: To easily load the data, it's advisable you have the data and the notebook file in the same folder"
   ]
  },
  {
   "cell_type": "code",
   "execution_count": 135,
   "metadata": {},
   "outputs": [],
   "source": [
    "#importing all the needed packages\n",
    "import numpy as np \n",
    "import pandas as pd\n",
    "import matplotlib.pyplot as plt\n",
    "import matplotlib as mpl\n",
    "import seaborn as sns\n",
    "\n",
    "%matplotlib inline       \n",
    "mpl.style.use('seaborn') # make our plot look pretty"
   ]
  },
  {
   "cell_type": "code",
   "execution_count": 136,
   "metadata": {},
   "outputs": [],
   "source": [
    "# Loading the sales data\n",
    "\n",
    "data=pd.read_csv('sales_data.csv')"
   ]
  },
  {
   "cell_type": "code",
   "execution_count": 137,
   "metadata": {
    "scrolled": false
   },
   "outputs": [
    {
     "data": {
      "text/html": [
       "<div>\n",
       "<style scoped>\n",
       "    .dataframe tbody tr th:only-of-type {\n",
       "        vertical-align: middle;\n",
       "    }\n",
       "\n",
       "    .dataframe tbody tr th {\n",
       "        vertical-align: top;\n",
       "    }\n",
       "\n",
       "    .dataframe thead th {\n",
       "        text-align: right;\n",
       "    }\n",
       "</style>\n",
       "<table border=\"1\" class=\"dataframe\">\n",
       "  <thead>\n",
       "    <tr style=\"text-align: right;\">\n",
       "      <th></th>\n",
       "      <th>Unnamed: 0</th>\n",
       "      <th>Order Date</th>\n",
       "      <th>Order ID</th>\n",
       "      <th>Customer ID</th>\n",
       "      <th>Customer Name</th>\n",
       "      <th>Segment</th>\n",
       "      <th>City</th>\n",
       "      <th>Market</th>\n",
       "      <th>Region</th>\n",
       "      <th>Category</th>\n",
       "      <th>Sub-Category</th>\n",
       "      <th>Product Name</th>\n",
       "      <th>Sales</th>\n",
       "      <th>Quantity</th>\n",
       "      <th>Discount</th>\n",
       "      <th>Profit</th>\n",
       "    </tr>\n",
       "  </thead>\n",
       "  <tbody>\n",
       "    <tr>\n",
       "      <th>0</th>\n",
       "      <td>0</td>\n",
       "      <td>2013-01-01</td>\n",
       "      <td>ID-2013-37383</td>\n",
       "      <td>MY-18295</td>\n",
       "      <td>Muhammed Yedwab</td>\n",
       "      <td>Corporate</td>\n",
       "      <td>Albury</td>\n",
       "      <td>APAC</td>\n",
       "      <td>Oceania</td>\n",
       "      <td>Technology</td>\n",
       "      <td>Copiers</td>\n",
       "      <td>Canon Copy Machine, Digital</td>\n",
       "      <td>1649.214</td>\n",
       "      <td>7</td>\n",
       "      <td>0.1</td>\n",
       "      <td>36.624</td>\n",
       "    </tr>\n",
       "    <tr>\n",
       "      <th>1</th>\n",
       "      <td>1</td>\n",
       "      <td>2013-01-01</td>\n",
       "      <td>IN-2013-47960</td>\n",
       "      <td>JE-15715</td>\n",
       "      <td>Joe Elijah</td>\n",
       "      <td>Consumer</td>\n",
       "      <td>Tianjin</td>\n",
       "      <td>APAC</td>\n",
       "      <td>North Asia</td>\n",
       "      <td>Furniture</td>\n",
       "      <td>Bookcases</td>\n",
       "      <td>Sauder Floating Shelf Set, Metal</td>\n",
       "      <td>1358.280</td>\n",
       "      <td>7</td>\n",
       "      <td>0.0</td>\n",
       "      <td>203.700</td>\n",
       "    </tr>\n",
       "    <tr>\n",
       "      <th>2</th>\n",
       "      <td>2</td>\n",
       "      <td>2013-01-01</td>\n",
       "      <td>ID-2013-37383</td>\n",
       "      <td>MY-18295</td>\n",
       "      <td>Muhammed Yedwab</td>\n",
       "      <td>Corporate</td>\n",
       "      <td>Albury</td>\n",
       "      <td>APAC</td>\n",
       "      <td>Oceania</td>\n",
       "      <td>Technology</td>\n",
       "      <td>Accessories</td>\n",
       "      <td>Logitech Memory Card, Erganomic</td>\n",
       "      <td>728.568</td>\n",
       "      <td>8</td>\n",
       "      <td>0.1</td>\n",
       "      <td>-32.472</td>\n",
       "    </tr>\n",
       "    <tr>\n",
       "      <th>3</th>\n",
       "      <td>3</td>\n",
       "      <td>2013-01-01</td>\n",
       "      <td>IN-2013-47960</td>\n",
       "      <td>JE-15715</td>\n",
       "      <td>Joe Elijah</td>\n",
       "      <td>Consumer</td>\n",
       "      <td>Tianjin</td>\n",
       "      <td>APAC</td>\n",
       "      <td>North Asia</td>\n",
       "      <td>Furniture</td>\n",
       "      <td>Bookcases</td>\n",
       "      <td>Dania Library with Doors, Mobile</td>\n",
       "      <td>2189.520</td>\n",
       "      <td>6</td>\n",
       "      <td>0.0</td>\n",
       "      <td>372.060</td>\n",
       "    </tr>\n",
       "    <tr>\n",
       "      <th>4</th>\n",
       "      <td>4</td>\n",
       "      <td>2013-01-01</td>\n",
       "      <td>IN-2013-47960</td>\n",
       "      <td>JE-15715</td>\n",
       "      <td>Joe Elijah</td>\n",
       "      <td>Consumer</td>\n",
       "      <td>Tianjin</td>\n",
       "      <td>APAC</td>\n",
       "      <td>North Asia</td>\n",
       "      <td>Furniture</td>\n",
       "      <td>Bookcases</td>\n",
       "      <td>Sauder Floating Shelf Set, Traditional</td>\n",
       "      <td>1362.060</td>\n",
       "      <td>7</td>\n",
       "      <td>0.0</td>\n",
       "      <td>340.410</td>\n",
       "    </tr>\n",
       "  </tbody>\n",
       "</table>\n",
       "</div>"
      ],
      "text/plain": [
       "   Unnamed: 0  Order Date       Order ID Customer ID    Customer Name  \\\n",
       "0           0  2013-01-01  ID-2013-37383    MY-18295  Muhammed Yedwab   \n",
       "1           1  2013-01-01  IN-2013-47960    JE-15715       Joe Elijah   \n",
       "2           2  2013-01-01  ID-2013-37383    MY-18295  Muhammed Yedwab   \n",
       "3           3  2013-01-01  IN-2013-47960    JE-15715       Joe Elijah   \n",
       "4           4  2013-01-01  IN-2013-47960    JE-15715       Joe Elijah   \n",
       "\n",
       "     Segment     City Market      Region    Category Sub-Category  \\\n",
       "0  Corporate   Albury   APAC     Oceania  Technology      Copiers   \n",
       "1   Consumer  Tianjin   APAC  North Asia   Furniture    Bookcases   \n",
       "2  Corporate   Albury   APAC     Oceania  Technology  Accessories   \n",
       "3   Consumer  Tianjin   APAC  North Asia   Furniture    Bookcases   \n",
       "4   Consumer  Tianjin   APAC  North Asia   Furniture    Bookcases   \n",
       "\n",
       "                             Product Name     Sales  Quantity  Discount  \\\n",
       "0             Canon Copy Machine, Digital  1649.214         7       0.1   \n",
       "1        Sauder Floating Shelf Set, Metal  1358.280         7       0.0   \n",
       "2         Logitech Memory Card, Erganomic   728.568         8       0.1   \n",
       "3        Dania Library with Doors, Mobile  2189.520         6       0.0   \n",
       "4  Sauder Floating Shelf Set, Traditional  1362.060         7       0.0   \n",
       "\n",
       "    Profit  \n",
       "0   36.624  \n",
       "1  203.700  \n",
       "2  -32.472  \n",
       "3  372.060  \n",
       "4  340.410  "
      ]
     },
     "execution_count": 137,
     "metadata": {},
     "output_type": "execute_result"
    }
   ],
   "source": [
    "data.head()"
   ]
  },
  {
   "cell_type": "markdown",
   "metadata": {},
   "source": [
    "# What is the average sales and profit per market?"
   ]
  },
  {
   "cell_type": "code",
   "execution_count": 138,
   "metadata": {
    "scrolled": false
   },
   "outputs": [
    {
     "data": {
      "text/html": [
       "<div>\n",
       "<style scoped>\n",
       "    .dataframe tbody tr th:only-of-type {\n",
       "        vertical-align: middle;\n",
       "    }\n",
       "\n",
       "    .dataframe tbody tr th {\n",
       "        vertical-align: top;\n",
       "    }\n",
       "\n",
       "    .dataframe thead th {\n",
       "        text-align: right;\n",
       "    }\n",
       "</style>\n",
       "<table border=\"1\" class=\"dataframe\">\n",
       "  <thead>\n",
       "    <tr style=\"text-align: right;\">\n",
       "      <th></th>\n",
       "      <th>Sales</th>\n",
       "      <th>Profit</th>\n",
       "    </tr>\n",
       "    <tr>\n",
       "      <th>Market</th>\n",
       "      <th></th>\n",
       "      <th></th>\n",
       "    </tr>\n",
       "  </thead>\n",
       "  <tbody>\n",
       "    <tr>\n",
       "      <th>APAC</th>\n",
       "      <td>337.225210</td>\n",
       "      <td>42.596237</td>\n",
       "    </tr>\n",
       "    <tr>\n",
       "      <th>Africa</th>\n",
       "      <td>177.023796</td>\n",
       "      <td>20.623734</td>\n",
       "    </tr>\n",
       "    <tr>\n",
       "      <th>Canada</th>\n",
       "      <td>180.765566</td>\n",
       "      <td>48.391132</td>\n",
       "    </tr>\n",
       "    <tr>\n",
       "      <th>EMEA</th>\n",
       "      <td>156.453122</td>\n",
       "      <td>8.102479</td>\n",
       "    </tr>\n",
       "    <tr>\n",
       "      <th>EU</th>\n",
       "      <td>297.415215</td>\n",
       "      <td>38.373754</td>\n",
       "    </tr>\n",
       "    <tr>\n",
       "      <th>LATAM</th>\n",
       "      <td>198.738815</td>\n",
       "      <td>20.070383</td>\n",
       "    </tr>\n",
       "    <tr>\n",
       "      <th>US</th>\n",
       "      <td>235.842570</td>\n",
       "      <td>31.677105</td>\n",
       "    </tr>\n",
       "  </tbody>\n",
       "</table>\n",
       "</div>"
      ],
      "text/plain": [
       "             Sales     Profit\n",
       "Market                       \n",
       "APAC    337.225210  42.596237\n",
       "Africa  177.023796  20.623734\n",
       "Canada  180.765566  48.391132\n",
       "EMEA    156.453122   8.102479\n",
       "EU      297.415215  38.373754\n",
       "LATAM   198.738815  20.070383\n",
       "US      235.842570  31.677105"
      ]
     },
     "execution_count": 138,
     "metadata": {},
     "output_type": "execute_result"
    }
   ],
   "source": [
    "data.groupby('Market')[['Sales','Profit']].mean()"
   ]
  },
  {
   "cell_type": "markdown",
   "metadata": {},
   "source": [
    "# Which market brings more sales on the average?"
   ]
  },
  {
   "cell_type": "code",
   "execution_count": 139,
   "metadata": {},
   "outputs": [
    {
     "data": {
      "text/plain": [
       "Market\n",
       "APAC      337.225210\n",
       "EU        297.415215\n",
       "US        235.842570\n",
       "LATAM     198.738815\n",
       "Canada    180.765566\n",
       "Africa    177.023796\n",
       "EMEA      156.453122\n",
       "Name: Sales, dtype: float64"
      ]
     },
     "execution_count": 139,
     "metadata": {},
     "output_type": "execute_result"
    }
   ],
   "source": [
    "data.groupby('Market')['Sales'].mean().sort_values(ascending=False)"
   ]
  },
  {
   "cell_type": "markdown",
   "metadata": {},
   "source": [
    "# Plot a stacked bar chart showing the sales and profit per market"
   ]
  },
  {
   "cell_type": "code",
   "execution_count": 201,
   "metadata": {},
   "outputs": [],
   "source": [
    "# Help\n"
   ]
  },
  {
   "cell_type": "markdown",
   "metadata": {},
   "source": [
    "# i. What are the best 10 performing products with regards to sales in 2013?"
   ]
  },
  {
   "cell_type": "code",
   "execution_count": 119,
   "metadata": {},
   "outputs": [
    {
     "data": {
      "text/plain": [
       "Product Name\n",
       "Motorola Smart Phone, Full Size                             29357.0982\n",
       "Cisco Smart Phone, Full Size                                26737.1330\n",
       "Canon imageCLASS 2200 Advanced Copier                       25899.9260\n",
       "Harbour Creations Executive Leather Armchair, Adjustable    21871.1296\n",
       "Apple Smart Phone, Full Size                                21120.4080\n",
       "Hon Executive Leather Armchair, Adjustable                  20104.6026\n",
       "Office Star Executive Leather Armchair, Adjustable          19936.1460\n",
       "Nokia Smart Phone, with Caller ID                           18568.8543\n",
       "Samsung Smart Phone, VoIP                                   16733.1120\n",
       "Nokia Smart Phone, Full Size                                14765.8800\n",
       "Name: Sales, dtype: float64"
      ]
     },
     "execution_count": 119,
     "metadata": {},
     "output_type": "execute_result"
    }
   ],
   "source": [
    "data.groupby('Product Name')['Sales'].sum().sort_values(ascending=False)[:10]"
   ]
  },
  {
   "cell_type": "markdown",
   "metadata": {},
   "source": [
    "# ii.What are the least 10 performing products with regards to sales 2013?"
   ]
  },
  {
   "cell_type": "code",
   "execution_count": 120,
   "metadata": {},
   "outputs": [
    {
     "data": {
      "text/plain": [
       "Product Name\n",
       "Newell 310                                     1.408\n",
       "OIC #2 Pencils, Medium Soft                    1.504\n",
       "Avery Durable Binders                          1.728\n",
       "Maxell 4.7GB DVD+R 5/Pack                      1.980\n",
       "Acco Banker's Clasps, 5 3/4\"-Long              2.304\n",
       "Avery 479                                      2.610\n",
       "Acco 3-Hole Punch                              2.628\n",
       "Eldon Spacemaker Box, Quick-Snap Lid, Clear    2.672\n",
       "Newell 32                                      2.880\n",
       "Crayola Anti Dust Chalk, 12/Pack               2.912\n",
       "Name: Sales, dtype: float64"
      ]
     },
     "execution_count": 120,
     "metadata": {},
     "output_type": "execute_result"
    }
   ],
   "source": [
    "data.groupby('Product Name')['Sales'].sum().sort_values(ascending=True)[:10]"
   ]
  },
  {
   "cell_type": "code",
   "execution_count": 121,
   "metadata": {},
   "outputs": [],
   "source": [
    "from datetime import datetime\n"
   ]
  },
  {
   "cell_type": "markdown",
   "metadata": {},
   "source": [
    "# i. Extract the days and months from the Order Date and add them to the data frame with the name \"Days\" and \"Months\" respectively?"
   ]
  },
  {
   "cell_type": "code",
   "execution_count": 166,
   "metadata": {},
   "outputs": [
    {
     "data": {
      "text/html": [
       "<div>\n",
       "<style scoped>\n",
       "    .dataframe tbody tr th:only-of-type {\n",
       "        vertical-align: middle;\n",
       "    }\n",
       "\n",
       "    .dataframe tbody tr th {\n",
       "        vertical-align: top;\n",
       "    }\n",
       "\n",
       "    .dataframe thead th {\n",
       "        text-align: right;\n",
       "    }\n",
       "</style>\n",
       "<table border=\"1\" class=\"dataframe\">\n",
       "  <thead>\n",
       "    <tr style=\"text-align: right;\">\n",
       "      <th></th>\n",
       "      <th>Unnamed: 0</th>\n",
       "      <th>Order Date</th>\n",
       "      <th>Order ID</th>\n",
       "      <th>Customer ID</th>\n",
       "      <th>Customer Name</th>\n",
       "      <th>Segment</th>\n",
       "      <th>City</th>\n",
       "      <th>Market</th>\n",
       "      <th>Region</th>\n",
       "      <th>Category</th>\n",
       "      <th>Sub-Category</th>\n",
       "      <th>Product Name</th>\n",
       "      <th>Sales</th>\n",
       "      <th>Quantity</th>\n",
       "      <th>Discount</th>\n",
       "      <th>Profit</th>\n",
       "      <th>Months</th>\n",
       "      <th>Days</th>\n",
       "    </tr>\n",
       "  </thead>\n",
       "  <tbody>\n",
       "    <tr>\n",
       "      <th>0</th>\n",
       "      <td>0</td>\n",
       "      <td>2013-01-01</td>\n",
       "      <td>ID-2013-37383</td>\n",
       "      <td>MY-18295</td>\n",
       "      <td>Muhammed Yedwab</td>\n",
       "      <td>Corporate</td>\n",
       "      <td>Albury</td>\n",
       "      <td>APAC</td>\n",
       "      <td>Oceania</td>\n",
       "      <td>Technology</td>\n",
       "      <td>Copiers</td>\n",
       "      <td>Canon Copy Machine, Digital</td>\n",
       "      <td>1649.214</td>\n",
       "      <td>7</td>\n",
       "      <td>0.1</td>\n",
       "      <td>36.624</td>\n",
       "      <td>1</td>\n",
       "      <td>1</td>\n",
       "    </tr>\n",
       "    <tr>\n",
       "      <th>1</th>\n",
       "      <td>1</td>\n",
       "      <td>2013-01-01</td>\n",
       "      <td>IN-2013-47960</td>\n",
       "      <td>JE-15715</td>\n",
       "      <td>Joe Elijah</td>\n",
       "      <td>Consumer</td>\n",
       "      <td>Tianjin</td>\n",
       "      <td>APAC</td>\n",
       "      <td>North Asia</td>\n",
       "      <td>Furniture</td>\n",
       "      <td>Bookcases</td>\n",
       "      <td>Sauder Floating Shelf Set, Metal</td>\n",
       "      <td>1358.280</td>\n",
       "      <td>7</td>\n",
       "      <td>0.0</td>\n",
       "      <td>203.700</td>\n",
       "      <td>1</td>\n",
       "      <td>1</td>\n",
       "    </tr>\n",
       "    <tr>\n",
       "      <th>2</th>\n",
       "      <td>2</td>\n",
       "      <td>2013-01-01</td>\n",
       "      <td>ID-2013-37383</td>\n",
       "      <td>MY-18295</td>\n",
       "      <td>Muhammed Yedwab</td>\n",
       "      <td>Corporate</td>\n",
       "      <td>Albury</td>\n",
       "      <td>APAC</td>\n",
       "      <td>Oceania</td>\n",
       "      <td>Technology</td>\n",
       "      <td>Accessories</td>\n",
       "      <td>Logitech Memory Card, Erganomic</td>\n",
       "      <td>728.568</td>\n",
       "      <td>8</td>\n",
       "      <td>0.1</td>\n",
       "      <td>-32.472</td>\n",
       "      <td>1</td>\n",
       "      <td>1</td>\n",
       "    </tr>\n",
       "    <tr>\n",
       "      <th>3</th>\n",
       "      <td>3</td>\n",
       "      <td>2013-01-01</td>\n",
       "      <td>IN-2013-47960</td>\n",
       "      <td>JE-15715</td>\n",
       "      <td>Joe Elijah</td>\n",
       "      <td>Consumer</td>\n",
       "      <td>Tianjin</td>\n",
       "      <td>APAC</td>\n",
       "      <td>North Asia</td>\n",
       "      <td>Furniture</td>\n",
       "      <td>Bookcases</td>\n",
       "      <td>Dania Library with Doors, Mobile</td>\n",
       "      <td>2189.520</td>\n",
       "      <td>6</td>\n",
       "      <td>0.0</td>\n",
       "      <td>372.060</td>\n",
       "      <td>1</td>\n",
       "      <td>1</td>\n",
       "    </tr>\n",
       "    <tr>\n",
       "      <th>4</th>\n",
       "      <td>4</td>\n",
       "      <td>2013-01-01</td>\n",
       "      <td>IN-2013-47960</td>\n",
       "      <td>JE-15715</td>\n",
       "      <td>Joe Elijah</td>\n",
       "      <td>Consumer</td>\n",
       "      <td>Tianjin</td>\n",
       "      <td>APAC</td>\n",
       "      <td>North Asia</td>\n",
       "      <td>Furniture</td>\n",
       "      <td>Bookcases</td>\n",
       "      <td>Sauder Floating Shelf Set, Traditional</td>\n",
       "      <td>1362.060</td>\n",
       "      <td>7</td>\n",
       "      <td>0.0</td>\n",
       "      <td>340.410</td>\n",
       "      <td>1</td>\n",
       "      <td>1</td>\n",
       "    </tr>\n",
       "  </tbody>\n",
       "</table>\n",
       "</div>"
      ],
      "text/plain": [
       "   Unnamed: 0 Order Date       Order ID Customer ID    Customer Name  \\\n",
       "0           0 2013-01-01  ID-2013-37383    MY-18295  Muhammed Yedwab   \n",
       "1           1 2013-01-01  IN-2013-47960    JE-15715       Joe Elijah   \n",
       "2           2 2013-01-01  ID-2013-37383    MY-18295  Muhammed Yedwab   \n",
       "3           3 2013-01-01  IN-2013-47960    JE-15715       Joe Elijah   \n",
       "4           4 2013-01-01  IN-2013-47960    JE-15715       Joe Elijah   \n",
       "\n",
       "     Segment     City Market      Region    Category Sub-Category  \\\n",
       "0  Corporate   Albury   APAC     Oceania  Technology      Copiers   \n",
       "1   Consumer  Tianjin   APAC  North Asia   Furniture    Bookcases   \n",
       "2  Corporate   Albury   APAC     Oceania  Technology  Accessories   \n",
       "3   Consumer  Tianjin   APAC  North Asia   Furniture    Bookcases   \n",
       "4   Consumer  Tianjin   APAC  North Asia   Furniture    Bookcases   \n",
       "\n",
       "                             Product Name     Sales  Quantity  Discount  \\\n",
       "0             Canon Copy Machine, Digital  1649.214         7       0.1   \n",
       "1        Sauder Floating Shelf Set, Metal  1358.280         7       0.0   \n",
       "2         Logitech Memory Card, Erganomic   728.568         8       0.1   \n",
       "3        Dania Library with Doors, Mobile  2189.520         6       0.0   \n",
       "4  Sauder Floating Shelf Set, Traditional  1362.060         7       0.0   \n",
       "\n",
       "    Profit  Months  Days  \n",
       "0   36.624       1     1  \n",
       "1  203.700       1     1  \n",
       "2  -32.472       1     1  \n",
       "3  372.060       1     1  \n",
       "4  340.410       1     1  "
      ]
     },
     "execution_count": 166,
     "metadata": {},
     "output_type": "execute_result"
    }
   ],
   "source": [
    "data['Order Date'] =  pd.to_datetime(data['Order Date'], format='%Y-%m-%d')\n",
    "data['Months'] = data['Order Date'].dt.month\n",
    "data['Days'] = data['Order Date'].dt.day\n",
    "data.head()"
   ]
  },
  {
   "cell_type": "markdown",
   "metadata": {},
   "source": [
    "# i.Show the trend of profit from January to December with a line plot"
   ]
  },
  {
   "cell_type": "code",
   "execution_count": 187,
   "metadata": {
    "scrolled": true
   },
   "outputs": [
    {
     "data": {
      "image/png": "[encoded data removed]",
      "text/plain": [
       "<Figure size 576x396 with 1 Axes>"
      ]
     },
     "metadata": {},
     "output_type": "display_data"
    }
   ],
   "source": [
    "months= range(1,13)\n",
    "results= data.groupby(\"Months\").sum()\n",
    "plt.plot(months, results['Profit'])\n",
    "plt.xlabel(\"Months\")\n",
    "plt.ylabel(\"Profit\")\n",
    "plt.show()                    "
   ]
  },
  {
   "cell_type": "markdown",
   "metadata": {},
   "source": [
    "# Which month does the company make more profit and what 5 products are sold most in that month?"
   ]
  },
  {
   "cell_type": "code",
   "execution_count": 152,
   "metadata": {},
   "outputs": [
    {
     "data": {
      "text/plain": [
       "Months\n",
       "11    51720.88568\n",
       "12    47654.27990\n",
       "6     43298.85000\n",
       "5     39053.30946\n",
       "3     34873.71938\n",
       "8     32977.75576\n",
       "2     31553.99756\n",
       "10    27871.97470\n",
       "7     27019.91294\n",
       "1     26052.40252\n",
       "4     26008.05144\n",
       "9     18850.09084\n",
       "Name: Profit, dtype: float64"
      ]
     },
     "execution_count": 152,
     "metadata": {},
     "output_type": "execute_result"
    }
   ],
   "source": [
    "data.groupby(\"Months\")[\"Profit\"].sum().sort_values(ascending=False)"
   ]
  },
  {
   "cell_type": "code",
   "execution_count": 168,
   "metadata": {},
   "outputs": [
    {
     "data": {
      "text/plain": [
       "Product Name\n",
       "Cisco Smart Phone, Full Size                 5869.820\n",
       "SAFCO Executive Leather Armchair, Black      5370.300\n",
       "KitchenAid Stove, Red                        4618.215\n",
       "Tenex Lockers, Wire Frame                    4531.806\n",
       "Cubify CubeX 3D Printer Double Head Print    4499.985\n",
       "Name: Sales, dtype: float64"
      ]
     },
     "execution_count": 168,
     "metadata": {},
     "output_type": "execute_result"
    }
   ],
   "source": [
    "df = data[data['Order Date'].dt.month == 11]\n",
    "df.groupby('Product Name')['Sales'].sum().sort_values(ascending=False).head(5)"
   ]
  },
  {
   "cell_type": "markdown",
   "metadata": {},
   "source": [
    "The company made more profit in the 11th month with amount of 51720.88568"
   ]
  },
  {
   "cell_type": "markdown",
   "metadata": {},
   "source": [
    "# iv. which day does the company make high sales on the average?"
   ]
  },
  {
   "cell_type": "code",
   "execution_count": 172,
   "metadata": {},
   "outputs": [
    {
     "data": {
      "text/plain": [
       "Days\n",
       "2     318.411526\n",
       "1     316.403121\n",
       "10    308.192499\n",
       "3     291.859407\n",
       "16    287.188757\n",
       "Name: Sales, dtype: float64"
      ]
     },
     "execution_count": 172,
     "metadata": {},
     "output_type": "execute_result"
    }
   ],
   "source": [
    "data.groupby('Days').Sales.mean().sort_values(ascending=False).head()"
   ]
  },
  {
   "cell_type": "markdown",
   "metadata": {},
   "source": [
    "# i. By analyzing the data, what is the correlation between sales and discount?"
   ]
  },
  {
   "cell_type": "code",
   "execution_count": 173,
   "metadata": {},
   "outputs": [
    {
     "data": {
      "text/plain": [
       "-0.08470981142655357"
      ]
     },
     "execution_count": 173,
     "metadata": {},
     "output_type": "execute_result"
    }
   ],
   "source": [
    "data['Sales'].corr(data['Discount'])"
   ]
  },
  {
   "cell_type": "markdown",
   "metadata": {},
   "source": [
    "since the correlation is -0.084710 it means there is a weak and inverse relationship between sales and discount.This means that as discount increases,sales decreases."
   ]
  },
  {
   "cell_type": "markdown",
   "metadata": {},
   "source": [
    "# . Use a scatter plot to show the relationship between sales and profit."
   ]
  },
  {
   "cell_type": "code",
   "execution_count": 17,
   "metadata": {},
   "outputs": [
    {
     "data": {
      "image/png": "[encoded data removed]",
      "text/plain": [
       "<Figure size 432x288 with 1 Axes>"
      ]
     },
     "metadata": {
      "needs_background": "light"
     },
     "output_type": "display_data"
    }
   ],
   "source": [
    "data.plot.scatter(x='Sales',y='Profit', s=100);\n",
    "plt.show()"
   ]
  },
  {
   "cell_type": "markdown",
   "metadata": {},
   "source": [
    "# i. Plot a grouped bar chart showing the total profit for the different product category for each market."
   ]
  },
  {
   "cell_type": "code",
   "execution_count": 188,
   "metadata": {},
   "outputs": [
    {
     "data": {
      "text/plain": [
       "Text(0, 0.5, 'Profit')"
      ]
     },
     "execution_count": 188,
     "metadata": {},
     "output_type": "execute_result"
    },
    {
     "data": {
      "image/png": "[encoded data removed]",
      "text/plain": [
       "<Figure size 576x396 with 1 Axes>"
      ]
     },
     "metadata": {},
     "output_type": "display_data"
    }
   ],
   "source": [
    "data_pivot = pd.pivot_table(\n",
    "    data, \n",
    "    values=\"Profit\",\n",
    "    index=\"Market\",\n",
    "    columns=\"Category\", \n",
    "    aggfunc=np.mean\n",
    ")\n",
    "ax = data_pivot.plot(kind=\"bar\")\n",
    "ax.set_xlabel(\"Market\")\n",
    "ax.set_ylabel(\"Profit\")"
   ]
  },
  {
   "cell_type": "markdown",
   "metadata": {},
   "source": [
    "# From your graph, which product category performs well in each market?"
   ]
  },
  {
   "cell_type": "markdown",
   "metadata": {},
   "source": [
    "Technology"
   ]
  },
  {
   "cell_type": "markdown",
   "metadata": {},
   "source": [
    "# i. Which customer spent the most in the whole year?"
   ]
  },
  {
   "cell_type": "code",
   "execution_count": 19,
   "metadata": {},
   "outputs": [
    {
     "data": {
      "text/plain": [
       "Customer Name\n",
       "Tamara Chand          23190.40800\n",
       "Christopher Conant    18232.88840\n",
       "Laurel Beltran        16622.72232\n",
       "Joe Elijah            16275.77090\n",
       "Sanjit Engle          15527.93402\n",
       "                         ...     \n",
       "Phillip Breyer          365.69070\n",
       "Shui Tom                356.33000\n",
       "Julie Creighton         324.96800\n",
       "Brendan Dodson          304.49400\n",
       "David Bremer            201.06000\n",
       "Name: Sales, Length: 795, dtype: float64"
      ]
     },
     "execution_count": 19,
     "metadata": {},
     "output_type": "execute_result"
    }
   ],
   "source": [
    "data.groupby('Customer Name')['Sales'].sum().sort_values(ascending=False)"
   ]
  },
  {
   "cell_type": "markdown",
   "metadata": {},
   "source": [
    "Tamara Chand spent most in the year with the amount of  23190.40800"
   ]
  },
  {
   "cell_type": "markdown",
   "metadata": {},
   "source": [
    "# What product does the customer in (i) buy the most?"
   ]
  },
  {
   "cell_type": "code",
   "execution_count": 181,
   "metadata": {},
   "outputs": [
    {
     "data": {
      "text/html": [
       "<div>\n",
       "<style scoped>\n",
       "    .dataframe tbody tr th:only-of-type {\n",
       "        vertical-align: middle;\n",
       "    }\n",
       "\n",
       "    .dataframe tbody tr th {\n",
       "        vertical-align: top;\n",
       "    }\n",
       "\n",
       "    .dataframe thead th {\n",
       "        text-align: right;\n",
       "    }\n",
       "</style>\n",
       "<table border=\"1\" class=\"dataframe\">\n",
       "  <thead>\n",
       "    <tr style=\"text-align: right;\">\n",
       "      <th></th>\n",
       "      <th>Sales</th>\n",
       "      <th>Customer Name</th>\n",
       "    </tr>\n",
       "    <tr>\n",
       "      <th>Product Name</th>\n",
       "      <th></th>\n",
       "      <th></th>\n",
       "    </tr>\n",
       "  </thead>\n",
       "  <tbody>\n",
       "    <tr>\n",
       "      <th>Canon imageCLASS 2200 Advanced Copier</th>\n",
       "      <td>17499.950</td>\n",
       "      <td>Tamara Chand</td>\n",
       "    </tr>\n",
       "    <tr>\n",
       "      <th>SAFCO Executive Leather Armchair, Adjustable</th>\n",
       "      <td>1391.760</td>\n",
       "      <td>Tamara Chand</td>\n",
       "    </tr>\n",
       "    <tr>\n",
       "      <th>Novimex Executive Leather Armchair, Adjustable</th>\n",
       "      <td>1093.248</td>\n",
       "      <td>Tamara Chand</td>\n",
       "    </tr>\n",
       "    <tr>\n",
       "      <th>Nokia Smart Phone, with Caller ID</th>\n",
       "      <td>1022.256</td>\n",
       "      <td>Tamara Chand</td>\n",
       "    </tr>\n",
       "    <tr>\n",
       "      <th>Ibico Ibimaster 300 Manual Binding System</th>\n",
       "      <td>735.980</td>\n",
       "      <td>Tamara Chand</td>\n",
       "    </tr>\n",
       "    <tr>\n",
       "      <th>Tenex Lockers, Single Width</th>\n",
       "      <td>245.016</td>\n",
       "      <td>Tamara Chand</td>\n",
       "    </tr>\n",
       "    <tr>\n",
       "      <th>Enermax Keyboard, Programmable</th>\n",
       "      <td>169.920</td>\n",
       "      <td>Tamara Chand</td>\n",
       "    </tr>\n",
       "    <tr>\n",
       "      <th>Sanford Markers, Water Color</th>\n",
       "      <td>158.580</td>\n",
       "      <td>Tamara Chand</td>\n",
       "    </tr>\n",
       "    <tr>\n",
       "      <th>Breville Toaster, Red</th>\n",
       "      <td>153.420</td>\n",
       "      <td>Tamara Chand</td>\n",
       "    </tr>\n",
       "    <tr>\n",
       "      <th>Jiffy Manila Envelope, Security-Tint</th>\n",
       "      <td>142.050</td>\n",
       "      <td>Tamara Chand</td>\n",
       "    </tr>\n",
       "    <tr>\n",
       "      <th>BIC Canvas, Easy-Erase</th>\n",
       "      <td>86.352</td>\n",
       "      <td>Tamara Chand</td>\n",
       "    </tr>\n",
       "    <tr>\n",
       "      <th>Ibico Binding Machine, Clear</th>\n",
       "      <td>81.408</td>\n",
       "      <td>Tamara Chand</td>\n",
       "    </tr>\n",
       "    <tr>\n",
       "      <th>Breville Blender, Black</th>\n",
       "      <td>71.736</td>\n",
       "      <td>Tamara Chand</td>\n",
       "    </tr>\n",
       "    <tr>\n",
       "      <th>Kleencut Scissors, Easy Grip</th>\n",
       "      <td>71.730</td>\n",
       "      <td>Tamara Chand</td>\n",
       "    </tr>\n",
       "    <tr>\n",
       "      <th>Accos Clamps, Metal</th>\n",
       "      <td>39.000</td>\n",
       "      <td>Tamara Chand</td>\n",
       "    </tr>\n",
       "    <tr>\n",
       "      <th>Acco Pressboard Covers with Storage Hooks, 14 7/8\" x 11\", Light Blue</th>\n",
       "      <td>34.370</td>\n",
       "      <td>Tamara Chand</td>\n",
       "    </tr>\n",
       "    <tr>\n",
       "      <th>Stanley Bostitch Contemporary Electric Pencil Sharpeners</th>\n",
       "      <td>33.960</td>\n",
       "      <td>Tamara Chand</td>\n",
       "    </tr>\n",
       "    <tr>\n",
       "      <th>Accos Rubber Bands, Bulk Pack</th>\n",
       "      <td>33.360</td>\n",
       "      <td>Tamara Chand</td>\n",
       "    </tr>\n",
       "    <tr>\n",
       "      <th>Logitech Mouse, Erganomic</th>\n",
       "      <td>32.508</td>\n",
       "      <td>Tamara Chand</td>\n",
       "    </tr>\n",
       "    <tr>\n",
       "      <th>Acco Perma 4000 Stacking Storage Drawers</th>\n",
       "      <td>32.480</td>\n",
       "      <td>Tamara Chand</td>\n",
       "    </tr>\n",
       "    <tr>\n",
       "      <th>Nokia Headset, with Caller ID</th>\n",
       "      <td>29.244</td>\n",
       "      <td>Tamara Chand</td>\n",
       "    </tr>\n",
       "    <tr>\n",
       "      <th>Ibico Binder, Economy</th>\n",
       "      <td>24.768</td>\n",
       "      <td>Tamara Chand</td>\n",
       "    </tr>\n",
       "    <tr>\n",
       "      <th>Newell 3-Hole Punched Plastic Slotted Magazine Holders for Binders</th>\n",
       "      <td>7.312</td>\n",
       "      <td>Tamara Chand</td>\n",
       "    </tr>\n",
       "  </tbody>\n",
       "</table>\n",
       "</div>"
      ],
      "text/plain": [
       "                                                        Sales Customer Name\n",
       "Product Name                                                               \n",
       "Canon imageCLASS 2200 Advanced Copier               17499.950  Tamara Chand\n",
       "SAFCO Executive Leather Armchair, Adjustable         1391.760  Tamara Chand\n",
       "Novimex Executive Leather Armchair, Adjustable       1093.248  Tamara Chand\n",
       "Nokia Smart Phone, with Caller ID                    1022.256  Tamara Chand\n",
       "Ibico Ibimaster 300 Manual Binding System             735.980  Tamara Chand\n",
       "Tenex Lockers, Single Width                           245.016  Tamara Chand\n",
       "Enermax Keyboard, Programmable                        169.920  Tamara Chand\n",
       "Sanford Markers, Water Color                          158.580  Tamara Chand\n",
       "Breville Toaster, Red                                 153.420  Tamara Chand\n",
       "Jiffy Manila Envelope, Security-Tint                  142.050  Tamara Chand\n",
       "BIC Canvas, Easy-Erase                                 86.352  Tamara Chand\n",
       "Ibico Binding Machine, Clear                           81.408  Tamara Chand\n",
       "Breville Blender, Black                                71.736  Tamara Chand\n",
       "Kleencut Scissors, Easy Grip                           71.730  Tamara Chand\n",
       "Accos Clamps, Metal                                    39.000  Tamara Chand\n",
       "Acco Pressboard Covers with Storage Hooks, 14 7...     34.370  Tamara Chand\n",
       "Stanley Bostitch Contemporary Electric Pencil S...     33.960  Tamara Chand\n",
       "Accos Rubber Bands, Bulk Pack                          33.360  Tamara Chand\n",
       "Logitech Mouse, Erganomic                              32.508  Tamara Chand\n",
       "Acco Perma 4000 Stacking Storage Drawers               32.480  Tamara Chand\n",
       "Nokia Headset, with Caller ID                          29.244  Tamara Chand\n",
       "Ibico Binder, Economy                                  24.768  Tamara Chand\n",
       "Newell 3-Hole Punched Plastic Slotted Magazine ...      7.312  Tamara Chand"
      ]
     },
     "execution_count": 181,
     "metadata": {},
     "output_type": "execute_result"
    }
   ],
   "source": [
    "co=data[data['Customer Name']=='Tamara Chand']\n",
    "co.groupby('Product Name')[['Sales','Customer Name']].max().sort_values(by=['Sales'],ascending=False)"
   ]
  },
  {
   "cell_type": "markdown",
   "metadata": {},
   "source": [
    "The customer buys most of Canon imageCLASS 2200 Advanced Copier"
   ]
  },
  {
   "cell_type": "markdown",
   "metadata": {},
   "source": [
    "# Which month did the customer spend the most?"
   ]
  },
  {
   "cell_type": "code",
   "execution_count": 182,
   "metadata": {},
   "outputs": [
    {
     "data": {
      "text/html": [
       "<div>\n",
       "<style scoped>\n",
       "    .dataframe tbody tr th:only-of-type {\n",
       "        vertical-align: middle;\n",
       "    }\n",
       "\n",
       "    .dataframe tbody tr th {\n",
       "        vertical-align: top;\n",
       "    }\n",
       "\n",
       "    .dataframe thead th {\n",
       "        text-align: right;\n",
       "    }\n",
       "</style>\n",
       "<table border=\"1\" class=\"dataframe\">\n",
       "  <thead>\n",
       "    <tr style=\"text-align: right;\">\n",
       "      <th></th>\n",
       "      <th>Sales</th>\n",
       "      <th>Customer Name</th>\n",
       "    </tr>\n",
       "    <tr>\n",
       "      <th>Months</th>\n",
       "      <th></th>\n",
       "      <th></th>\n",
       "    </tr>\n",
       "  </thead>\n",
       "  <tbody>\n",
       "    <tr>\n",
       "      <th>3</th>\n",
       "      <td>17499.95</td>\n",
       "      <td>Tamara Chand</td>\n",
       "    </tr>\n",
       "    <tr>\n",
       "      <th>11</th>\n",
       "      <td>1391.76</td>\n",
       "      <td>Tamara Chand</td>\n",
       "    </tr>\n",
       "    <tr>\n",
       "      <th>9</th>\n",
       "      <td>169.92</td>\n",
       "      <td>Tamara Chand</td>\n",
       "    </tr>\n",
       "    <tr>\n",
       "      <th>8</th>\n",
       "      <td>158.58</td>\n",
       "      <td>Tamara Chand</td>\n",
       "    </tr>\n",
       "    <tr>\n",
       "      <th>12</th>\n",
       "      <td>153.42</td>\n",
       "      <td>Tamara Chand</td>\n",
       "    </tr>\n",
       "    <tr>\n",
       "      <th>2</th>\n",
       "      <td>142.05</td>\n",
       "      <td>Tamara Chand</td>\n",
       "    </tr>\n",
       "  </tbody>\n",
       "</table>\n",
       "</div>"
      ],
      "text/plain": [
       "           Sales Customer Name\n",
       "Months                        \n",
       "3       17499.95  Tamara Chand\n",
       "11       1391.76  Tamara Chand\n",
       "9         169.92  Tamara Chand\n",
       "8         158.58  Tamara Chand\n",
       "12        153.42  Tamara Chand\n",
       "2         142.05  Tamara Chand"
      ]
     },
     "execution_count": 182,
     "metadata": {},
     "output_type": "execute_result"
    }
   ],
   "source": [
    "co=data[data['Customer Name']=='Tamara Chand']\n",
    "co.groupby('Months')[['Sales','Customer Name']].max().sort_values(by=['Sales'],ascending=False)"
   ]
  },
  {
   "cell_type": "markdown",
   "metadata": {},
   "source": [
    "The customer spent the most in the 3rd month"
   ]
  },
  {
   "cell_type": "markdown",
   "metadata": {},
   "source": [
    "# v. How much did this customer spend in the whole year?"
   ]
  },
  {
   "cell_type": "code",
   "execution_count": 183,
   "metadata": {},
   "outputs": [
    {
     "data": {
      "text/plain": [
       "Customer Name\n",
       "Tamara Chand    23190.408\n",
       "Name: Sales, dtype: float64"
      ]
     },
     "execution_count": 183,
     "metadata": {},
     "output_type": "execute_result"
    }
   ],
   "source": [
    "co=data[data['Customer Name']=='Tamara Chand']\n",
    "co.groupby('Customer Name')['Sales'].sum()"
   ]
  },
  {
   "cell_type": "markdown",
   "metadata": {},
   "source": [
    "The customer spent 23190.40800"
   ]
  },
  {
   "cell_type": "markdown",
   "metadata": {},
   "source": [
    "# Can you do any other analysis to draw more insight? Feel free to do it."
   ]
  },
  {
   "cell_type": "code",
   "execution_count": 34,
   "metadata": {},
   "outputs": [
    {
     "data": {
      "text/html": [
       "<div>\n",
       "<style scoped>\n",
       "    .dataframe tbody tr th:only-of-type {\n",
       "        vertical-align: middle;\n",
       "    }\n",
       "\n",
       "    .dataframe tbody tr th {\n",
       "        vertical-align: top;\n",
       "    }\n",
       "\n",
       "    .dataframe thead th {\n",
       "        text-align: right;\n",
       "    }\n",
       "</style>\n",
       "<table border=\"1\" class=\"dataframe\">\n",
       "  <thead>\n",
       "    <tr style=\"text-align: right;\">\n",
       "      <th></th>\n",
       "      <th>count</th>\n",
       "      <th>mean</th>\n",
       "      <th>std</th>\n",
       "      <th>min</th>\n",
       "      <th>25%</th>\n",
       "      <th>50%</th>\n",
       "      <th>75%</th>\n",
       "      <th>max</th>\n",
       "    </tr>\n",
       "  </thead>\n",
       "  <tbody>\n",
       "    <tr>\n",
       "      <td>Unnamed: 0</td>\n",
       "      <td>13799.0</td>\n",
       "      <td>6899.000000</td>\n",
       "      <td>3983.572517</td>\n",
       "      <td>0.000</td>\n",
       "      <td>3449.500</td>\n",
       "      <td>6899.000</td>\n",
       "      <td>10348.500</td>\n",
       "      <td>13798.000</td>\n",
       "    </tr>\n",
       "    <tr>\n",
       "      <td>Sales</td>\n",
       "      <td>13799.0</td>\n",
       "      <td>246.811106</td>\n",
       "      <td>494.719419</td>\n",
       "      <td>0.836</td>\n",
       "      <td>30.816</td>\n",
       "      <td>85.232</td>\n",
       "      <td>249.720</td>\n",
       "      <td>17499.950</td>\n",
       "    </tr>\n",
       "    <tr>\n",
       "      <td>Quantity</td>\n",
       "      <td>13799.0</td>\n",
       "      <td>3.488369</td>\n",
       "      <td>2.280165</td>\n",
       "      <td>1.000</td>\n",
       "      <td>2.000</td>\n",
       "      <td>3.000</td>\n",
       "      <td>5.000</td>\n",
       "      <td>14.000</td>\n",
       "    </tr>\n",
       "    <tr>\n",
       "      <td>Discount</td>\n",
       "      <td>13799.0</td>\n",
       "      <td>0.140265</td>\n",
       "      <td>0.210051</td>\n",
       "      <td>0.000</td>\n",
       "      <td>0.000</td>\n",
       "      <td>0.000</td>\n",
       "      <td>0.200</td>\n",
       "      <td>0.800</td>\n",
       "    </tr>\n",
       "    <tr>\n",
       "      <td>Profit</td>\n",
       "      <td>13799.0</td>\n",
       "      <td>29.490197</td>\n",
       "      <td>190.361319</td>\n",
       "      <td>-6599.978</td>\n",
       "      <td>0.000</td>\n",
       "      <td>9.240</td>\n",
       "      <td>36.852</td>\n",
       "      <td>8399.976</td>\n",
       "    </tr>\n",
       "    <tr>\n",
       "      <td>day</td>\n",
       "      <td>13799.0</td>\n",
       "      <td>16.055149</td>\n",
       "      <td>8.353731</td>\n",
       "      <td>1.000</td>\n",
       "      <td>9.000</td>\n",
       "      <td>16.000</td>\n",
       "      <td>23.000</td>\n",
       "      <td>31.000</td>\n",
       "    </tr>\n",
       "    <tr>\n",
       "      <td>month</td>\n",
       "      <td>13799.0</td>\n",
       "      <td>7.159722</td>\n",
       "      <td>3.325463</td>\n",
       "      <td>1.000</td>\n",
       "      <td>5.000</td>\n",
       "      <td>7.000</td>\n",
       "      <td>10.000</td>\n",
       "      <td>12.000</td>\n",
       "    </tr>\n",
       "  </tbody>\n",
       "</table>\n",
       "</div>"
      ],
      "text/plain": [
       "              count         mean          std       min       25%       50%  \\\n",
       "Unnamed: 0  13799.0  6899.000000  3983.572517     0.000  3449.500  6899.000   \n",
       "Sales       13799.0   246.811106   494.719419     0.836    30.816    85.232   \n",
       "Quantity    13799.0     3.488369     2.280165     1.000     2.000     3.000   \n",
       "Discount    13799.0     0.140265     0.210051     0.000     0.000     0.000   \n",
       "Profit      13799.0    29.490197   190.361319 -6599.978     0.000     9.240   \n",
       "day         13799.0    16.055149     8.353731     1.000     9.000    16.000   \n",
       "month       13799.0     7.159722     3.325463     1.000     5.000     7.000   \n",
       "\n",
       "                  75%        max  \n",
       "Unnamed: 0  10348.500  13798.000  \n",
       "Sales         249.720  17499.950  \n",
       "Quantity        5.000     14.000  \n",
       "Discount        0.200      0.800  \n",
       "Profit         36.852   8399.976  \n",
       "day            23.000     31.000  \n",
       "month          10.000     12.000  "
      ]
     },
     "execution_count": 34,
     "metadata": {},
     "output_type": "execute_result"
    }
   ],
   "source": [
    "data.describe().T"
   ]
  }
 ],
 "metadata": {
  "kernelspec": {
   "display_name": "Python 3 (ipykernel)",
   "language": "python",
   "name": "python3"
  },
  "language_info": {
   "codemirror_mode": {
    "name": "ipython",
    "version": 3
   },
   "file_extension": ".py",
   "mimetype": "text/x-python",
   "name": "python",
   "nbconvert_exporter": "python",
   "pygments_lexer": "ipython3",
   "version": "3.9.7"
  }
 },
 "nbformat": 4,
 "nbformat_minor": 2
}
